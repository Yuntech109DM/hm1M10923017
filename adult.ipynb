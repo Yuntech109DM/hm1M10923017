{
 "cells": [
  {
   "cell_type": "code",
   "execution_count": 1,
   "metadata": {},
   "outputs": [],
   "source": [
    "import numpy as np\n",
    "import pandas as pd\n",
    "import matplotlib.pyplot as plt\n",
    "from sklearn import tree\n",
    "from sklearn.model_selection import train_test_split\n",
    "from sklearn.tree import DecisionTreeClassifier\n",
    "import pydotplus\n",
    "import graphviz "
   ]
  },
  {
   "cell_type": "code",
   "execution_count": 2,
   "metadata": {},
   "outputs": [],
   "source": [
    "#匯入資料集"
   ]
  },
  {
   "cell_type": "code",
   "execution_count": 3,
   "metadata": {},
   "outputs": [],
   "source": [
    "db = pd.read_csv(\n",
    "    r'C:\\Users\\Tsai\\Downloads\\adult.data',\n",
    "    header=None,\n",
    "    names=['age', 'workclass', 'fnlwgt', 'education', \n",
    "           'education-num', 'marital-status', 'occupation',\n",
    "           'relationship','race','sex','capital-gain',\n",
    "           'capital-loss','hours-per-week','native-country','income']\n",
    ")\n"
   ]
  },
  {
   "cell_type": "code",
   "execution_count": 4,
   "metadata": {
    "scrolled": true
   },
   "outputs": [
    {
     "data": {
      "text/plain": [
       "(32561, 15)"
      ]
     },
     "execution_count": 4,
     "metadata": {},
     "output_type": "execute_result"
    }
   ],
   "source": [
    "#查看資料\n",
    "db.shape"
   ]
  },
  {
   "cell_type": "code",
   "execution_count": 5,
   "metadata": {},
   "outputs": [
    {
     "data": {
      "text/plain": [
       "32561"
      ]
     },
     "execution_count": 5,
     "metadata": {},
     "output_type": "execute_result"
    }
   ],
   "source": [
    "len(db)"
   ]
  },
  {
   "cell_type": "code",
   "execution_count": 6,
   "metadata": {
    "scrolled": true
   },
   "outputs": [
    {
     "name": "stdout",
     "output_type": "stream",
     "text": [
      "<class 'pandas.core.frame.DataFrame'>\n",
      "RangeIndex: 32561 entries, 0 to 32560\n",
      "Data columns (total 15 columns):\n",
      " #   Column          Non-Null Count  Dtype \n",
      "---  ------          --------------  ----- \n",
      " 0   age             32561 non-null  int64 \n",
      " 1   workclass       32561 non-null  object\n",
      " 2   fnlwgt          32561 non-null  int64 \n",
      " 3   education       32561 non-null  object\n",
      " 4   education-num   32561 non-null  int64 \n",
      " 5   marital-status  32561 non-null  object\n",
      " 6   occupation      32561 non-null  object\n",
      " 7   relationship    32561 non-null  object\n",
      " 8   race            32561 non-null  object\n",
      " 9   sex             32561 non-null  object\n",
      " 10  capital-gain    32561 non-null  int64 \n",
      " 11  capital-loss    32561 non-null  int64 \n",
      " 12  hours-per-week  32561 non-null  int64 \n",
      " 13  native-country  32561 non-null  object\n",
      " 14  income          32561 non-null  object\n",
      "dtypes: int64(6), object(9)\n",
      "memory usage: 3.7+ MB\n"
     ]
    }
   ],
   "source": [
    "db.info()"
   ]
  },
  {
   "cell_type": "code",
   "execution_count": 7,
   "metadata": {},
   "outputs": [
    {
     "data": {
      "text/plain": [
       "36    0.027579\n",
       "31    0.027272\n",
       "34    0.027210\n",
       "23    0.026934\n",
       "35    0.026903\n",
       "        ...   \n",
       "83    0.000184\n",
       "85    0.000092\n",
       "88    0.000092\n",
       "87    0.000031\n",
       "86    0.000031\n",
       "Name: age, Length: 73, dtype: float64"
      ]
     },
     "execution_count": 7,
     "metadata": {},
     "output_type": "execute_result"
    }
   ],
   "source": [
    "db['age'].value_counts(normalize=True)"
   ]
  },
  {
   "cell_type": "code",
   "execution_count": 8,
   "metadata": {},
   "outputs": [],
   "source": [
    "#fnlwgt無意義與其他不使用屬性"
   ]
  },
  {
   "cell_type": "code",
   "execution_count": 9,
   "metadata": {},
   "outputs": [],
   "source": [
    "db.drop('fnlwgt', axis=1, inplace=True)\n",
    "db.drop('education-num', axis=1, inplace=True)\n",
    "db.drop('relationship', axis=1, inplace=True)\n",
    "db.drop('native-country', axis=1, inplace=True)\n",
    "db.drop('marital-status', axis=1, inplace=True)"
   ]
  },
  {
   "cell_type": "code",
   "execution_count": 10,
   "metadata": {},
   "outputs": [],
   "source": [
    "#清除有?與unknown的資料"
   ]
  },
  {
   "cell_type": "code",
   "execution_count": 11,
   "metadata": {},
   "outputs": [],
   "source": [
    "for i in db.columns:\n",
    "    db[i].replace(' ?', inplace=True)\n",
    "    db[i].replace('Unknown', inplace=True)"
   ]
  },
  {
   "cell_type": "code",
   "execution_count": 12,
   "metadata": {},
   "outputs": [
    {
     "name": "stdout",
     "output_type": "stream",
     "text": [
      "<class 'pandas.core.frame.DataFrame'>\n",
      "RangeIndex: 32561 entries, 0 to 32560\n",
      "Data columns (total 10 columns):\n",
      " #   Column          Non-Null Count  Dtype \n",
      "---  ------          --------------  ----- \n",
      " 0   age             32561 non-null  int64 \n",
      " 1   workclass       32561 non-null  object\n",
      " 2   education       32561 non-null  object\n",
      " 3   occupation      32561 non-null  object\n",
      " 4   race            32561 non-null  object\n",
      " 5   sex             32561 non-null  object\n",
      " 6   capital-gain    32561 non-null  int64 \n",
      " 7   capital-loss    32561 non-null  int64 \n",
      " 8   hours-per-week  32561 non-null  int64 \n",
      " 9   income          32561 non-null  object\n",
      "dtypes: int64(4), object(6)\n",
      "memory usage: 2.5+ MB\n"
     ]
    }
   ],
   "source": [
    "db.info()\n"
   ]
  },
  {
   "cell_type": "code",
   "execution_count": 13,
   "metadata": {},
   "outputs": [],
   "source": [
    "#將非數值型態欄位轉換為數值型態\n",
    "\n",
    "\n",
    "\n"
   ]
  },
  {
   "cell_type": "code",
   "execution_count": 14,
   "metadata": {},
   "outputs": [],
   "source": [
    "#工作類別 workclass\n"
   ]
  },
  {
   "cell_type": "code",
   "execution_count": 15,
   "metadata": {},
   "outputs": [],
   "source": [
    "db.loc[db['workclass'] == ' Private', 'workclass'] = 0\n",
    "db.loc[db['workclass'] == ' Self-emp-not-inc', 'workclass'] = 1\n",
    "db.loc[db['workclass'] == ' Self-emp-inc', 'workclass'] = 2\n",
    "db.loc[db['workclass'] == ' Federal-gov', 'workclass'] = 3\n",
    "db.loc[db['workclass'] == ' Local-gov', 'workclass'] = 4\n",
    "db.loc[db['workclass'] == ' State-gov', 'workclass'] = 5\n",
    "db.loc[db['workclass'] == ' Without-pay', 'workclass'] = 6\n",
    "db.loc[db['workclass'] == ' Never-worked', 'workclass'] = 7"
   ]
  },
  {
   "cell_type": "code",
   "execution_count": 16,
   "metadata": {},
   "outputs": [],
   "source": [
    "db.loc[db['education'] == ' Bachelors', 'education'] = 0\n",
    "db.loc[db['education'] == ' Some-college', 'education'] = 1\n",
    "db.loc[db['education'] == ' 11th', 'education'] = 2\n",
    "db.loc[db['education'] == ' HS-grad', 'education'] = 3\n",
    "db.loc[db['education'] == ' Prof-school', 'education'] = 4\n",
    "db.loc[db['education'] == ' Assoc-acdm', 'education'] = 5\n",
    "db.loc[db['education'] == ' Assoc-voc', 'education'] = 6\n",
    "db.loc[db['education'] == ' 9th', 'education'] = 7\n",
    "db.loc[db['education'] == ' 7th-8th', 'education'] = 8\n",
    "db.loc[db['education'] == ' 12th', 'education'] = 9\n",
    "db.loc[db['education'] == ' Masters', 'education'] = 10\n",
    "db.loc[db['education'] == ' 1st-4th', 'education'] = 11\n",
    "db.loc[db['education'] == ' 10th', 'education'] = 12\n",
    "db.loc[db['education'] == ' Doctorate', 'education'] = 13\n",
    "db.loc[db['education'] == ' 5th-6th', 'education'] = 14\n",
    "db.loc[db['education'] == ' Preschool', 'education'] = 15"
   ]
  },
  {
   "cell_type": "code",
   "execution_count": 17,
   "metadata": {},
   "outputs": [],
   "source": [
    "#職業 occupation"
   ]
  },
  {
   "cell_type": "code",
   "execution_count": 18,
   "metadata": {},
   "outputs": [],
   "source": [
    "db.loc[db['occupation'] == ' Tech-support', 'occupation'] = 0\n",
    "db.loc[db['occupation'] == ' Craft-repair', 'occupation'] = 1\n",
    "db.loc[db['occupation'] == ' Other-service', 'occupation'] = 2\n",
    "db.loc[db['occupation'] == ' Sales', 'occupation'] = 3\n",
    "db.loc[db['occupation'] == ' Exec-managerial', 'occupation'] = 4\n",
    "db.loc[db['occupation'] == ' Prof-specialty', 'occupation'] = 5\n",
    "db.loc[db['occupation'] == ' Handlers-cleaners', 'occupation'] = 6\n",
    "db.loc[db['occupation'] == ' Machine-op-inspct', 'occupation'] = 7\n",
    "db.loc[db['occupation'] == ' Adm-clerical', 'occupation'] = 8\n",
    "db.loc[db['occupation'] == ' Farming-fishing', 'occupation'] = 9\n",
    "db.loc[db['occupation'] == ' Transport-moving', 'occupation'] = 10\n",
    "db.loc[db['occupation'] == ' Priv-house-serv', 'occupation'] = 11\n",
    "db.loc[db['occupation'] == ' Protective-serv', 'occupation'] = 12\n",
    "db.loc[db['occupation'] == ' Armed-Forces', 'occupation'] = 13"
   ]
  },
  {
   "cell_type": "code",
   "execution_count": 19,
   "metadata": {},
   "outputs": [],
   "source": [
    "#種族 race"
   ]
  },
  {
   "cell_type": "code",
   "execution_count": 20,
   "metadata": {},
   "outputs": [],
   "source": [
    "db.loc[db['race'] == ' White', 'race'] = 0\n",
    "db.loc[db['race'] == ' Asian-Pac-Islander', 'race'] = 1\n",
    "db.loc[db['race'] == ' Amer-Indian-Eskimo', 'race'] = 2\n",
    "db.loc[db['race'] == ' Other', 'race'] = 3\n",
    "db.loc[db['race'] == ' Black', 'race'] = 4"
   ]
  },
  {
   "cell_type": "code",
   "execution_count": 21,
   "metadata": {},
   "outputs": [],
   "source": [
    "#性別 sex"
   ]
  },
  {
   "cell_type": "code",
   "execution_count": 22,
   "metadata": {},
   "outputs": [],
   "source": [
    "db.loc[db['sex'] == ' Female', 'sex'] = 0\n",
    "db.loc[db['sex'] == ' Male', 'sex'] = 1"
   ]
  },
  {
   "cell_type": "code",
   "execution_count": 23,
   "metadata": {},
   "outputs": [],
   "source": [
    "#分割feature attributes和class attributes"
   ]
  },
  {
   "cell_type": "code",
   "execution_count": 24,
   "metadata": {},
   "outputs": [],
   "source": [
    "#分割測試與訓練集\n",
    "x = db.drop(['income'], axis=1)\n",
    "y = db['income']"
   ]
  },
  {
   "cell_type": "code",
   "execution_count": 25,
   "metadata": {},
   "outputs": [
    {
     "data": {
      "text/plain": [
       "0.8026939276939277"
      ]
     },
     "execution_count": 25,
     "metadata": {},
     "output_type": "execute_result"
    }
   ],
   "source": [
    "xtrain,xtest,ytrain,ytest=train_test_split(x,y,test_size=0.3)\n",
    "train1=tree.DecisionTreeClassifier(criterion='entropy',max_depth=3).fit(xtrain,ytrain)#entropy\n",
    "train1.score(xtrain,ytrain)"
   ]
  },
  {
   "cell_type": "code",
   "execution_count": null,
   "metadata": {},
   "outputs": [],
   "source": []
  },
  {
   "cell_type": "code",
   "execution_count": 26,
   "metadata": {},
   "outputs": [
    {
     "data": {
      "text/plain": [
       "0.8069403214249156"
      ]
     },
     "execution_count": 26,
     "metadata": {},
     "output_type": "execute_result"
    }
   ],
   "source": [
    "train1.score(xtest,ytest)"
   ]
  },
  {
   "cell_type": "code",
   "execution_count": 27,
   "metadata": {},
   "outputs": [
    {
     "data": {
      "text/plain": [
       "[Text(167.4, 190.26, 'X[6] <= 5119.0\\nentropy = 0.798\\nsamples = 22792\\nvalue = [17282, 5510]'),\n",
       " Text(83.7, 135.9, 'X[0] <= 27.5\\nentropy = 0.734\\nsamples = 21709\\nvalue = [17234, 4475]'),\n",
       " Text(41.85, 81.53999999999999, 'X[0] <= 24.5\\nentropy = 0.164\\nsamples = 5560\\nvalue = [5426, 134]'),\n",
       " Text(20.925, 27.180000000000007, 'entropy = 0.049\\nsamples = 3864\\nvalue = [3843, 21]'),\n",
       " Text(62.775000000000006, 27.180000000000007, 'entropy = 0.353\\nsamples = 1696\\nvalue = [1583, 113]'),\n",
       " Text(125.55000000000001, 81.53999999999999, 'X[5] <= 0.5\\nentropy = 0.84\\nsamples = 16149\\nvalue = [11808, 4341]'),\n",
       " Text(104.625, 27.180000000000007, 'entropy = 0.54\\nsamples = 4912\\nvalue = [4305, 607]'),\n",
       " Text(146.475, 27.180000000000007, 'entropy = 0.917\\nsamples = 11237\\nvalue = [7503, 3734]'),\n",
       " Text(251.10000000000002, 135.9, 'X[6] <= 7073.5\\nentropy = 0.262\\nsamples = 1083\\nvalue = [48, 1035]'),\n",
       " Text(209.25, 81.53999999999999, 'X[6] <= 5316.5\\nentropy = 0.896\\nsamples = 112\\nvalue = [35, 77]'),\n",
       " Text(188.32500000000002, 27.180000000000007, 'entropy = 0.0\\nsamples = 66\\nvalue = [0, 66]'),\n",
       " Text(230.175, 27.180000000000007, 'entropy = 0.794\\nsamples = 46\\nvalue = [35, 11]'),\n",
       " Text(292.95, 81.53999999999999, 'X[0] <= 18.5\\nentropy = 0.102\\nsamples = 971\\nvalue = [13, 958]'),\n",
       " Text(272.02500000000003, 27.180000000000007, 'entropy = 0.0\\nsamples = 2\\nvalue = [2, 0]'),\n",
       " Text(313.875, 27.180000000000007, 'entropy = 0.09\\nsamples = 969\\nvalue = [11, 958]')]"
      ]
     },
     "execution_count": 27,
     "metadata": {},
     "output_type": "execute_result"
    },
    {
     "data": {
      "image/png": "[encoded data removed]",
      "text/plain": [
       "<Figure size 432x288 with 1 Axes>"
      ]
     },
     "metadata": {
      "needs_background": "light"
     },
     "output_type": "display_data"
    }
   ],
   "source": [
    "tree.plot_tree(train1,filled=True) "
   ]
  },
  {
   "cell_type": "code",
   "execution_count": 28,
   "metadata": {
    "scrolled": true
   },
   "outputs": [
    {
     "data": {
      "text/plain": [
       "'adult.pdf'"
      ]
     },
     "execution_count": 28,
     "metadata": {},
     "output_type": "execute_result"
    }
   ],
   "source": [
    "names1=['age',  'education',   'occupation','race','sex','capital-gain','capital-loss','hours-per-week','income']\n",
    "\n",
    "dot_data = tree.export_graphviz(train1,filled=True,feature_names=names1, out_file=None) \n",
    "graph = graphviz.Source(dot_data) \n",
    "graph.render(\"adult\") "
   ]
  },
  {
   "cell_type": "code",
   "execution_count": null,
   "metadata": {},
   "outputs": [],
   "source": []
  },
  {
   "cell_type": "code",
   "execution_count": null,
   "metadata": {},
   "outputs": [],
   "source": []
  },
  {
   "cell_type": "code",
   "execution_count": 29,
   "metadata": {},
   "outputs": [
    {
     "data": {
      "image/png": "[encoded data removed]",
      "text/plain": [
       "<Figure size 432x288 with 1 Axes>"
      ]
     },
     "metadata": {
      "needs_background": "light"
     },
     "output_type": "display_data"
    }
   ],
   "source": [
    "plt.figure()\n",
    "tree.plot_tree(train1,filled=True)  \n",
    "plt.savefig('tree.png',format='png',bbox_inches = \"tight\")\n"
   ]
  },
  {
   "cell_type": "code",
   "execution_count": 30,
   "metadata": {},
   "outputs": [
    {
     "name": "stdout",
     "output_type": "stream",
     "text": [
      "成功產出D://adult_tree.xlsx\n"
     ]
    }
   ],
   "source": [
    "Result_PATH = 'D://adult_tree.xlsx'\n",
    "writer = pd.ExcelWriter( Result_PATH , engine='xlsxwriter')\n",
    "df_S1 = pd.DataFrame(xtest)\n",
    "\n",
    "df_S1['predict'] = train1.predict(xtest)\n",
    "df_S1['real_class'] = ytest\n",
    "df_S1.to_excel(writer, sheet_name='SHEET1' ,index =False)\n",
    "\n",
    "writer.save()\n",
    "print( '成功產出'+Result_PATH )"
   ]
  },
  {
   "cell_type": "code",
   "execution_count": 31,
   "metadata": {},
   "outputs": [],
   "source": [
    "from sklearn.model_selection import GridSearchCV"
   ]
  },
  {
   "cell_type": "code",
   "execution_count": null,
   "metadata": {},
   "outputs": [],
   "source": [
    "tree_params = {'max_depth': range(3, 14)}\n",
    "\n",
    "locally_best_tree = GridSearchCV(DecisionTreeClassifier(random_state=17),\n",
    "                                 tree_params, cv=5)\n",
    "\n",
    "locally_best_tree.fit(xtrain, ytrain)"
   ]
  },
  {
   "cell_type": "code",
   "execution_count": null,
   "metadata": {},
   "outputs": [],
   "source": [
    "print(\"最优深度：{}\".format(locally_best_tree.best_params_))"
   ]
  },
  {
   "cell_type": "code",
   "execution_count": null,
   "metadata": {},
   "outputs": [],
   "source": []
  },
  {
   "cell_type": "code",
   "execution_count": null,
   "metadata": {},
   "outputs": [],
   "source": []
  },
  {
   "cell_type": "code",
   "execution_count": null,
   "metadata": {},
   "outputs": [],
   "source": []
  },
  {
   "cell_type": "code",
   "execution_count": null,
   "metadata": {},
   "outputs": [],
   "source": []
  }
 ],
 "metadata": {
  "kernelspec": {
   "display_name": "Python 3",
   "language": "python",
   "name": "python3"
  },
  "language_info": {
   "codemirror_mode": {
    "name": "ipython",
    "version": 3
   },
   "file_extension": ".py",
   "mimetype": "text/x-python",
   "name": "python",
   "nbconvert_exporter": "python",
   "pygments_lexer": "ipython3",
   "version": "3.8.3"
  }
 },
 "nbformat": 4,
 "nbformat_minor": 4
}
